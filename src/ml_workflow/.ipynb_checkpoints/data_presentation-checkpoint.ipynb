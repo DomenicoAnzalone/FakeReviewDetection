{
 "cells": [
  {
   "cell_type": "markdown",
   "id": "2b0f405d",
   "metadata": {},
   "source": [
    "## Importazione di librerie"
   ]
  },
  {
   "cell_type": "code",
   "execution_count": 1,
   "id": "a9b72947",
   "metadata": {},
   "outputs": [],
   "source": [
    "import pandas as pd\n",
    "import matplotlib.pyplot as plt"
   ]
  },
  {
   "cell_type": "markdown",
   "id": "146e9597",
   "metadata": {},
   "source": [
    "## Lettura Dataset\n",
    "\n",
    "*Viene prelevato il Dataset grezzo (non ancora pre-processato) e ne vengono stampate le prime righe, in modo da avere una prima idea della struttura del Set.*"
   ]
  },
  {
   "cell_type": "code",
   "execution_count": 2,
   "id": "63558b5e",
   "metadata": {
    "scrolled": false
   },
   "outputs": [
    {
     "data": {
      "text/html": [
       "<div>\n",
       "<style scoped>\n",
       "    .dataframe tbody tr th:only-of-type {\n",
       "        vertical-align: middle;\n",
       "    }\n",
       "\n",
       "    .dataframe tbody tr th {\n",
       "        vertical-align: top;\n",
       "    }\n",
       "\n",
       "    .dataframe thead th {\n",
       "        text-align: right;\n",
       "    }\n",
       "</style>\n",
       "<table border=\"1\" class=\"dataframe\">\n",
       "  <thead>\n",
       "    <tr style=\"text-align: right;\">\n",
       "      <th></th>\n",
       "      <th>category</th>\n",
       "      <th>rating</th>\n",
       "      <th>label</th>\n",
       "      <th>text_</th>\n",
       "    </tr>\n",
       "  </thead>\n",
       "  <tbody>\n",
       "    <tr>\n",
       "      <th>0</th>\n",
       "      <td>Home_and_Kitchen_5</td>\n",
       "      <td>5.0</td>\n",
       "      <td>CG</td>\n",
       "      <td>Love this!  Well made, sturdy, and very comfor...</td>\n",
       "    </tr>\n",
       "    <tr>\n",
       "      <th>1</th>\n",
       "      <td>Home_and_Kitchen_5</td>\n",
       "      <td>5.0</td>\n",
       "      <td>CG</td>\n",
       "      <td>love it, a great upgrade from the original.  I...</td>\n",
       "    </tr>\n",
       "    <tr>\n",
       "      <th>2</th>\n",
       "      <td>Home_and_Kitchen_5</td>\n",
       "      <td>5.0</td>\n",
       "      <td>CG</td>\n",
       "      <td>This pillow saved my back. I love the look and...</td>\n",
       "    </tr>\n",
       "    <tr>\n",
       "      <th>3</th>\n",
       "      <td>Home_and_Kitchen_5</td>\n",
       "      <td>1.0</td>\n",
       "      <td>CG</td>\n",
       "      <td>Missing information on how to use it, but it i...</td>\n",
       "    </tr>\n",
       "    <tr>\n",
       "      <th>4</th>\n",
       "      <td>Home_and_Kitchen_5</td>\n",
       "      <td>5.0</td>\n",
       "      <td>CG</td>\n",
       "      <td>Very nice set. Good quality. We have had the s...</td>\n",
       "    </tr>\n",
       "    <tr>\n",
       "      <th>5</th>\n",
       "      <td>Home_and_Kitchen_5</td>\n",
       "      <td>3.0</td>\n",
       "      <td>CG</td>\n",
       "      <td>I WANTED DIFFERENT FLAVORS BUT THEY ARE NOT.</td>\n",
       "    </tr>\n",
       "    <tr>\n",
       "      <th>6</th>\n",
       "      <td>Home_and_Kitchen_5</td>\n",
       "      <td>5.0</td>\n",
       "      <td>CG</td>\n",
       "      <td>They are the perfect touch for me and the only...</td>\n",
       "    </tr>\n",
       "    <tr>\n",
       "      <th>7</th>\n",
       "      <td>Home_and_Kitchen_5</td>\n",
       "      <td>3.0</td>\n",
       "      <td>CG</td>\n",
       "      <td>These done fit well and look great.  I love th...</td>\n",
       "    </tr>\n",
       "    <tr>\n",
       "      <th>8</th>\n",
       "      <td>Home_and_Kitchen_5</td>\n",
       "      <td>5.0</td>\n",
       "      <td>CG</td>\n",
       "      <td>Great big numbers &amp; easy to read, the only thi...</td>\n",
       "    </tr>\n",
       "    <tr>\n",
       "      <th>9</th>\n",
       "      <td>Home_and_Kitchen_5</td>\n",
       "      <td>5.0</td>\n",
       "      <td>CG</td>\n",
       "      <td>My son loves this comforter and it is very wel...</td>\n",
       "    </tr>\n",
       "  </tbody>\n",
       "</table>\n",
       "</div>"
      ],
      "text/plain": [
       "             category  rating label  \\\n",
       "0  Home_and_Kitchen_5     5.0    CG   \n",
       "1  Home_and_Kitchen_5     5.0    CG   \n",
       "2  Home_and_Kitchen_5     5.0    CG   \n",
       "3  Home_and_Kitchen_5     1.0    CG   \n",
       "4  Home_and_Kitchen_5     5.0    CG   \n",
       "5  Home_and_Kitchen_5     3.0    CG   \n",
       "6  Home_and_Kitchen_5     5.0    CG   \n",
       "7  Home_and_Kitchen_5     3.0    CG   \n",
       "8  Home_and_Kitchen_5     5.0    CG   \n",
       "9  Home_and_Kitchen_5     5.0    CG   \n",
       "\n",
       "                                               text_  \n",
       "0  Love this!  Well made, sturdy, and very comfor...  \n",
       "1  love it, a great upgrade from the original.  I...  \n",
       "2  This pillow saved my back. I love the look and...  \n",
       "3  Missing information on how to use it, but it i...  \n",
       "4  Very nice set. Good quality. We have had the s...  \n",
       "5       I WANTED DIFFERENT FLAVORS BUT THEY ARE NOT.  \n",
       "6  They are the perfect touch for me and the only...  \n",
       "7  These done fit well and look great.  I love th...  \n",
       "8  Great big numbers & easy to read, the only thi...  \n",
       "9  My son loves this comforter and it is very wel...  "
      ]
     },
     "execution_count": 2,
     "metadata": {},
     "output_type": "execute_result"
    }
   ],
   "source": [
    "# Leggi il Dataset grezzo dal folder 'data'\n",
    "raw_dataset = pd.read_csv('../data/raw_dataset.csv')\n",
    "\n",
    "# Stampa a video le prime 10 righe del Dataset\n",
    "raw_dataset.head(10) "
   ]
  },
  {
   "cell_type": "markdown",
   "id": "cbb7d07f",
   "metadata": {},
   "source": [
    "**Modifica nomi categorie**\n",
    "\n",
    "In questa cella sono stati momentaneamente migliorati i nomi delle categorie solo per una migliore leggibilità."
   ]
  },
  {
   "cell_type": "code",
   "execution_count": 3,
   "id": "4f49de5d",
   "metadata": {},
   "outputs": [],
   "source": [
    "# Rimuovi \"_5\" dalla fine delle categorie\n",
    "raw_dataset['category'] = raw_dataset['category'].str.replace(r'_5$', '', regex=True)"
   ]
  },
  {
   "cell_type": "markdown",
   "id": "4a5b3295",
   "metadata": {},
   "source": [
    "#### Aggiunta colonna \"lenght\"\n",
    "\n",
    "Aggiunta una nuova colonna contenente, per ogni entry, il numero di caratteri contenuti nella feature \"text_\""
   ]
  },
  {
   "cell_type": "code",
   "execution_count": 4,
   "id": "c4fc9e58",
   "metadata": {},
   "outputs": [
    {
     "data": {
      "text/html": [
       "<div>\n",
       "<style scoped>\n",
       "    .dataframe tbody tr th:only-of-type {\n",
       "        vertical-align: middle;\n",
       "    }\n",
       "\n",
       "    .dataframe tbody tr th {\n",
       "        vertical-align: top;\n",
       "    }\n",
       "\n",
       "    .dataframe thead th {\n",
       "        text-align: right;\n",
       "    }\n",
       "</style>\n",
       "<table border=\"1\" class=\"dataframe\">\n",
       "  <thead>\n",
       "    <tr style=\"text-align: right;\">\n",
       "      <th></th>\n",
       "      <th>category</th>\n",
       "      <th>rating</th>\n",
       "      <th>label</th>\n",
       "      <th>text_</th>\n",
       "      <th>length</th>\n",
       "    </tr>\n",
       "  </thead>\n",
       "  <tbody>\n",
       "    <tr>\n",
       "      <th>0</th>\n",
       "      <td>Home_and_Kitchen</td>\n",
       "      <td>5.0</td>\n",
       "      <td>CG</td>\n",
       "      <td>Love this!  Well made, sturdy, and very comfor...</td>\n",
       "      <td>75</td>\n",
       "    </tr>\n",
       "    <tr>\n",
       "      <th>1</th>\n",
       "      <td>Home_and_Kitchen</td>\n",
       "      <td>5.0</td>\n",
       "      <td>CG</td>\n",
       "      <td>love it, a great upgrade from the original.  I...</td>\n",
       "      <td>80</td>\n",
       "    </tr>\n",
       "    <tr>\n",
       "      <th>2</th>\n",
       "      <td>Home_and_Kitchen</td>\n",
       "      <td>5.0</td>\n",
       "      <td>CG</td>\n",
       "      <td>This pillow saved my back. I love the look and...</td>\n",
       "      <td>67</td>\n",
       "    </tr>\n",
       "    <tr>\n",
       "      <th>3</th>\n",
       "      <td>Home_and_Kitchen</td>\n",
       "      <td>1.0</td>\n",
       "      <td>CG</td>\n",
       "      <td>Missing information on how to use it, but it i...</td>\n",
       "      <td>81</td>\n",
       "    </tr>\n",
       "    <tr>\n",
       "      <th>4</th>\n",
       "      <td>Home_and_Kitchen</td>\n",
       "      <td>5.0</td>\n",
       "      <td>CG</td>\n",
       "      <td>Very nice set. Good quality. We have had the s...</td>\n",
       "      <td>85</td>\n",
       "    </tr>\n",
       "  </tbody>\n",
       "</table>\n",
       "</div>"
      ],
      "text/plain": [
       "           category  rating label  \\\n",
       "0  Home_and_Kitchen     5.0    CG   \n",
       "1  Home_and_Kitchen     5.0    CG   \n",
       "2  Home_and_Kitchen     5.0    CG   \n",
       "3  Home_and_Kitchen     1.0    CG   \n",
       "4  Home_and_Kitchen     5.0    CG   \n",
       "\n",
       "                                               text_  length  \n",
       "0  Love this!  Well made, sturdy, and very comfor...      75  \n",
       "1  love it, a great upgrade from the original.  I...      80  \n",
       "2  This pillow saved my back. I love the look and...      67  \n",
       "3  Missing information on how to use it, but it i...      81  \n",
       "4  Very nice set. Good quality. We have had the s...      85  "
      ]
     },
     "execution_count": 4,
     "metadata": {},
     "output_type": "execute_result"
    }
   ],
   "source": [
    "raw_dataset['length'] = raw_dataset['text_'].apply(len)\n",
    "raw_dataset.head()"
   ]
  },
  {
   "cell_type": "markdown",
   "id": "060347c4",
   "metadata": {},
   "source": [
    "#### Info su Dataaset\n",
    "\n",
    "In questa cella ci sono informazioni riguardo: il numero di entry, il numero di colonne, i valori non null per ogni colonna, i tipi utilizzati, e la memoria utilizzata dal Dataset."
   ]
  },
  {
   "cell_type": "code",
   "execution_count": 5,
   "id": "8fecaaf1",
   "metadata": {
    "scrolled": true
   },
   "outputs": [
    {
     "name": "stdout",
     "output_type": "stream",
     "text": [
      "<class 'pandas.core.frame.DataFrame'>\n",
      "RangeIndex: 40432 entries, 0 to 40431\n",
      "Data columns (total 5 columns):\n",
      " #   Column    Non-Null Count  Dtype  \n",
      "---  ------    --------------  -----  \n",
      " 0   category  40432 non-null  object \n",
      " 1   rating    40432 non-null  float64\n",
      " 2   label     40432 non-null  object \n",
      " 3   text_     40432 non-null  object \n",
      " 4   length    40432 non-null  int64  \n",
      "dtypes: float64(1), int64(1), object(3)\n",
      "memory usage: 1.5+ MB\n"
     ]
    }
   ],
   "source": [
    "raw_dataset.info()"
   ]
  },
  {
   "cell_type": "markdown",
   "id": "ef603166",
   "metadata": {},
   "source": [
    "#### Conteggio valori nulli\n",
    "\n",
    "Per ogni colonna (feature) vengono conteggiati quanti volori nulli sono presenti nel Dataset."
   ]
  },
  {
   "cell_type": "code",
   "execution_count": 6,
   "id": "bb52f76e",
   "metadata": {},
   "outputs": [
    {
     "data": {
      "text/plain": [
       "category    0\n",
       "rating      0\n",
       "label       0\n",
       "text_       0\n",
       "length      0\n",
       "dtype: int64"
      ]
     },
     "execution_count": 6,
     "metadata": {},
     "output_type": "execute_result"
    }
   ],
   "source": [
    "raw_dataset.isnull().sum()"
   ]
  },
  {
   "cell_type": "markdown",
   "id": "5e9928a9",
   "metadata": {},
   "source": [
    "# Caratteristiche delle features"
   ]
  },
  {
   "cell_type": "markdown",
   "id": "a0c50551",
   "metadata": {},
   "source": [
    "### Distribuzione della feature Label\n",
    "\n",
    "In questa cella viene generato un grafico, che rappresenta la distrubuzione della feature label. Viene rappresentato come il Dataset sia perfettamente bilanciato."
   ]
  },
  {
   "cell_type": "code",
   "execution_count": 13,
   "id": "ac6b2800",
   "metadata": {
    "scrolled": true
   },
   "outputs": [
    {
     "data": {
      "image/png": "[encoded data removed]",
      "text/plain": [
       "<Figure size 400x400 with 1 Axes>"
      ]
     },
     "metadata": {},
     "output_type": "display_data"
    }
   ],
   "source": [
    "# Sostituisci 'category' con il nome effettivo della tua feature\n",
    "feature_da_visualizzare = 'label'\n",
    "\n",
    "# Calcola la distribuzione dei valori nella feature\n",
    "conteggio_valori = raw_dataset[feature_da_visualizzare].value_counts()\n",
    "\n",
    "# Crea il grafico a torta\n",
    "plt.figure(figsize=(4, 4))  # Imposta la dimensione del grafico\n",
    "plt.pie(conteggio_valori, labels=conteggio_valori.index, autopct='%1.1f%%', startangle=140)\n",
    "plt.axis('equal')  # Imposta l'asse in modo che il grafico sia circolare\n",
    "\n",
    "# Mostra il grafico\n",
    "plt.show()"
   ]
  },
  {
   "cell_type": "markdown",
   "id": "9ed8037e",
   "metadata": {},
   "source": [
    "## Distribuzione della feature rating\n",
    "\n",
    "In questa cella viene generato un grafico, che rappresenta la distrubuzione dei valori della feature \"rating\" presenti per ogni entry nel Dataset."
   ]
  },
  {
   "cell_type": "code",
   "execution_count": 14,
   "id": "264e6f0f",
   "metadata": {},
   "outputs": [
    {
     "data": {
      "image/png": "[encoded data removed]",
      "text/plain": [
       "<Figure size 300x300 with 1 Axes>"
      ]
     },
     "metadata": {},
     "output_type": "display_data"
    }
   ],
   "source": [
    "# Sostituisci 'rating' con il nome effettivo della tua feature\n",
    "feature_da_visualizzare = 'rating'\n",
    "\n",
    "# Calcola la distribuzione dei valori nella feature\n",
    "conteggio_valori = raw_dataset[feature_da_visualizzare].value_counts()\n",
    "\n",
    "# Crea il grafico a barre orizzontali\n",
    "plt.figure(figsize=(3, 3))  # Ajusta le dimensioni del grafico come necessario\n",
    "plt.barh(conteggio_valori.index, conteggio_valori, color='skyblue')\n",
    "plt.xlabel('Conteggio', fontsize=8)  # Riduzione della dimensione del testo per gli assi\n",
    "plt.ylabel('Rating', fontsize=8)  # Riduzione della dimensione del testo per gli assi\n",
    "plt.title(f'Distribuzione dei rating nella feature {feature_da_visualizzare}', fontsize=12)  # Riduzione della dimensione del testo per il titolo\n",
    "plt.xticks(fontsize=8)  # Riduzione della dimensione del testo per le etichette dell'asse X\n",
    "plt.yticks(fontsize=8)  # Riduzione della dimensione del testo per le etichette dell'asse Y\n",
    "plt.gca().invert_yaxis()  # Inverte l'asse Y per mostrare la barra più lunga in alto\n",
    "\n",
    "# Mostra il grafico\n",
    "plt.show()"
   ]
  },
  {
   "cell_type": "markdown",
   "id": "98d49d4b",
   "metadata": {},
   "source": [
    "## Distribuzione della feature category\n",
    "\n",
    "In questa cella viene generato un grafico, che rappresenta la distrubuzione dei valori della feature \"category\" presenti per ogni entry nel Dataset."
   ]
  },
  {
   "cell_type": "code",
   "execution_count": 15,
   "id": "cd9ba812",
   "metadata": {
    "scrolled": true
   },
   "outputs": [
    {
     "data": {
      "image/png": "[encoded data removed]",
      "text/plain": [
       "<Figure size 300x300 with 1 Axes>"
      ]
     },
     "metadata": {},
     "output_type": "display_data"
    }
   ],
   "source": [
    "# Sostituisci 'category' con il nome effettivo della tua feature\n",
    "feature_da_visualizzare = 'category'\n",
    "\n",
    "# Calcola la distribuzione dei valori nella feature \"category\"\n",
    "conteggio_categorie = raw_dataset[feature_da_visualizzare].value_counts()\n",
    "\n",
    "# Crea il grafico a barre orizzontali\n",
    "plt.figure(figsize=(3, 3))  # Ajusta le dimensioni del grafico come necessario\n",
    "plt.barh(conteggio_categorie.index, conteggio_categorie, color='skyblue')\n",
    "plt.xlabel('Conteggio', fontsize=8)  # Riduzione della dimensione del testo per gli assi\n",
    "plt.ylabel('Categorie', fontsize=8)  # Riduzione della dimensione del testo per gli assi\n",
    "plt.title(f'Distribuzione delle categorie nella feature {feature_da_visualizzare}', fontsize=12)  # Riduzione della dimensione del testo per il titolo\n",
    "plt.xticks(fontsize=8)  # Riduzione della dimensione del testo per le etichette dell'asse X\n",
    "plt.yticks(fontsize=8)  # Riduzione della dimensione del testo per le etichette dell'asse Y\n",
    "plt.gca().invert_yaxis()  # Inverte l'asse Y per mostrare la barra più lunga in alto\n",
    "\n",
    "# Mostra il grafico\n",
    "plt.show()"
   ]
  },
  {
   "cell_type": "markdown",
   "id": "0c320ac7",
   "metadata": {},
   "source": [
    "## Caratteristiche della feature \"Label\"\n",
    "\n",
    "Nelle seguenti celle sono descritte caratteristiche testuali della colonna \"Label\"\n",
    "\n",
    "Nella prossima cella viene descritta, mediante un grafico, la distrubuzione della lunghezza della feature \"label\""
   ]
  },
  {
   "cell_type": "code",
   "execution_count": 16,
   "id": "b8953220",
   "metadata": {},
   "outputs": [
    {
     "data": {
      "image/png": "[encoded data removed]",
      "text/plain": [
       "<Figure size 640x480 with 1 Axes>"
      ]
     },
     "metadata": {},
     "output_type": "display_data"
    }
   ],
   "source": [
    "plt.hist(raw_dataset['length'], bins=50, color='skyblue', edgecolor='black')\n",
    "plt.title('Distribuzione della Lunghezza')\n",
    "plt.xlabel('Lunghezza')\n",
    "plt.ylabel('Frequenza')\n",
    "plt.grid(True)\n",
    "plt.axvline(raw_dataset['length'].mean(), color='red', linestyle='dashed', linewidth=1)\n",
    "plt.text(raw_dataset['length'].mean()*1.1, max(plt.hist(raw_dataset['length'], bins=50)[0])/2, 'Media', color = 'red')\n",
    "plt.show()\n"
   ]
  },
  {
   "cell_type": "markdown",
   "id": "ebefed52",
   "metadata": {},
   "source": [
    "#### Descrizione lunghezza\n",
    "\n",
    "Queste due celle producono statistiche descrittive (come conteggio, media, deviazione standard, minimo, massimo, e i quartili) per ogni gruppo basato sui diversi valori di 'label'."
   ]
  },
  {
   "cell_type": "code",
   "execution_count": 11,
   "id": "1071debc",
   "metadata": {},
   "outputs": [
    {
     "data": {
      "text/plain": [
       "count    40432.000000\n",
       "mean       351.271963\n",
       "std        369.813570\n",
       "min         24.000000\n",
       "25%        107.000000\n",
       "50%        198.000000\n",
       "75%        439.000000\n",
       "max       2827.000000\n",
       "Name: length, dtype: float64"
      ]
     },
     "execution_count": 11,
     "metadata": {},
     "output_type": "execute_result"
    }
   ],
   "source": [
    "raw_dataset.length.describe()"
   ]
  },
  {
   "cell_type": "code",
   "execution_count": 12,
   "id": "cf013701",
   "metadata": {},
   "outputs": [
    {
     "data": {
      "text/html": [
       "<div>\n",
       "<style scoped>\n",
       "    .dataframe tbody tr th:only-of-type {\n",
       "        vertical-align: middle;\n",
       "    }\n",
       "\n",
       "    .dataframe tbody tr th {\n",
       "        vertical-align: top;\n",
       "    }\n",
       "\n",
       "    .dataframe thead tr th {\n",
       "        text-align: left;\n",
       "    }\n",
       "\n",
       "    .dataframe thead tr:last-of-type th {\n",
       "        text-align: right;\n",
       "    }\n",
       "</style>\n",
       "<table border=\"1\" class=\"dataframe\">\n",
       "  <thead>\n",
       "    <tr>\n",
       "      <th></th>\n",
       "      <th colspan=\"8\" halign=\"left\">rating</th>\n",
       "      <th colspan=\"8\" halign=\"left\">length</th>\n",
       "    </tr>\n",
       "    <tr>\n",
       "      <th></th>\n",
       "      <th>count</th>\n",
       "      <th>mean</th>\n",
       "      <th>std</th>\n",
       "      <th>min</th>\n",
       "      <th>25%</th>\n",
       "      <th>50%</th>\n",
       "      <th>75%</th>\n",
       "      <th>max</th>\n",
       "      <th>count</th>\n",
       "      <th>mean</th>\n",
       "      <th>std</th>\n",
       "      <th>min</th>\n",
       "      <th>25%</th>\n",
       "      <th>50%</th>\n",
       "      <th>75%</th>\n",
       "      <th>max</th>\n",
       "    </tr>\n",
       "    <tr>\n",
       "      <th>label</th>\n",
       "      <th></th>\n",
       "      <th></th>\n",
       "      <th></th>\n",
       "      <th></th>\n",
       "      <th></th>\n",
       "      <th></th>\n",
       "      <th></th>\n",
       "      <th></th>\n",
       "      <th></th>\n",
       "      <th></th>\n",
       "      <th></th>\n",
       "      <th></th>\n",
       "      <th></th>\n",
       "      <th></th>\n",
       "      <th></th>\n",
       "      <th></th>\n",
       "    </tr>\n",
       "  </thead>\n",
       "  <tbody>\n",
       "    <tr>\n",
       "      <th>CG</th>\n",
       "      <td>20216.0</td>\n",
       "      <td>4.259893</td>\n",
       "      <td>1.141065</td>\n",
       "      <td>1.0</td>\n",
       "      <td>4.0</td>\n",
       "      <td>5.0</td>\n",
       "      <td>5.0</td>\n",
       "      <td>5.0</td>\n",
       "      <td>20216.0</td>\n",
       "      <td>305.573506</td>\n",
       "      <td>307.037430</td>\n",
       "      <td>24.0</td>\n",
       "      <td>96.0</td>\n",
       "      <td>174.0</td>\n",
       "      <td>383.0</td>\n",
       "      <td>1717.0</td>\n",
       "    </tr>\n",
       "    <tr>\n",
       "      <th>OR</th>\n",
       "      <td>20216.0</td>\n",
       "      <td>4.253265</td>\n",
       "      <td>1.147652</td>\n",
       "      <td>1.0</td>\n",
       "      <td>4.0</td>\n",
       "      <td>5.0</td>\n",
       "      <td>5.0</td>\n",
       "      <td>5.0</td>\n",
       "      <td>20216.0</td>\n",
       "      <td>396.970419</td>\n",
       "      <td>418.428047</td>\n",
       "      <td>28.0</td>\n",
       "      <td>121.0</td>\n",
       "      <td>224.0</td>\n",
       "      <td>498.0</td>\n",
       "      <td>2827.0</td>\n",
       "    </tr>\n",
       "  </tbody>\n",
       "</table>\n",
       "</div>"
      ],
      "text/plain": [
       "        rating                                                length  \\\n",
       "         count      mean       std  min  25%  50%  75%  max    count   \n",
       "label                                                                  \n",
       "CG     20216.0  4.259893  1.141065  1.0  4.0  5.0  5.0  5.0  20216.0   \n",
       "OR     20216.0  4.253265  1.147652  1.0  4.0  5.0  5.0  5.0  20216.0   \n",
       "\n",
       "                                                                  \n",
       "             mean         std   min    25%    50%    75%     max  \n",
       "label                                                             \n",
       "CG     305.573506  307.037430  24.0   96.0  174.0  383.0  1717.0  \n",
       "OR     396.970419  418.428047  28.0  121.0  224.0  498.0  2827.0  "
      ]
     },
     "execution_count": 12,
     "metadata": {},
     "output_type": "execute_result"
    }
   ],
   "source": [
    "raw_dataset.groupby('label').describe()"
   ]
  }
 ],
 "metadata": {
  "kernelspec": {
   "display_name": "Python 3 (ipykernel)",
   "language": "python",
   "name": "python3"
  },
  "language_info": {
   "codemirror_mode": {
    "name": "ipython",
    "version": 3
   },
   "file_extension": ".py",
   "mimetype": "text/x-python",
   "name": "python",
   "nbconvert_exporter": "python",
   "pygments_lexer": "ipython3",
   "version": "3.11.5"
  }
 },
 "nbformat": 4,
 "nbformat_minor": 5
}
