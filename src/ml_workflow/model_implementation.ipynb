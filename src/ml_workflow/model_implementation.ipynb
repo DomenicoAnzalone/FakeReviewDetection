{
 "cells": [
  {
   "cell_type": "code",
   "execution_count": 19,
   "id": "845f11c0",
   "metadata": {},
   "outputs": [],
   "source": [
    "import numpy as np\n",
    "import pandas as pd\n",
    "import seaborn as sns\n",
    "import matplotlib.pyplot as plt\n",
    "%matplotlib inline\n",
    "import warnings, string\n",
    "warnings.filterwarnings('ignore')\n",
    "from sklearn.model_selection import train_test_split, GridSearchCV\n",
    "from sklearn.metrics import classification_report, confusion_matrix, accuracy_score\n",
    "import nltk\n",
    "from nltk.corpus import stopwords\n",
    "from sklearn.feature_extraction.text import CountVectorizer, TfidfTransformer\n",
    "from sklearn.naive_bayes import MultinomialNB\n",
    "from sklearn.pipeline import Pipeline\n",
    "from sklearn.ensemble import RandomForestClassifier\n",
    "from sklearn.tree import DecisionTreeClassifier\n",
    "from sklearn.neighbors import KNeighborsClassifier\n",
    "from sklearn.svm import SVC\n",
    "from sklearn.linear_model import LogisticRegression\n",
    "import joblib"
   ]
  },
  {
   "cell_type": "code",
   "execution_count": 32,
   "id": "768b7325",
   "metadata": {},
   "outputs": [
    {
     "name": "stdout",
     "output_type": "stream",
     "text": [
      "0    one better one ve read long time m glad read s...\n",
      "Name: text_, dtype: object\n",
      "['CG']\n"
     ]
    }
   ],
   "source": [
    "# Carica il modello addestrato\n",
    "model_path = '../data/modello_addestrato.pkl'  # Aggiorna il percorso se necessario\n",
    "model = joblib.load(model_path)\n",
    "\n",
    "value = 8\n",
    "\n",
    "elemento_selezionato = review_test.iloc[value]\n",
    "\n",
    "# Definisci i dati e il nome della colonna\n",
    "data = {'text_': ['']}\n",
    "\n",
    "# Crea un DataFrame\n",
    "df = pd.DataFrame(data)\n",
    "\n",
    "# Converti il DataFrame in una Serie\n",
    "# La Serie avrà un solo elemento con l'indice 0\n",
    "serie = df['text_']\n",
    "\n",
    "print(serie)\n",
    "\n",
    "prediction = model.predict([serie])\n",
    "\n",
    "print(prediction)"
   ]
  },
  {
   "cell_type": "code",
   "execution_count": null,
   "id": "16f04259",
   "metadata": {},
   "outputs": [],
   "source": []
  },
  {
   "cell_type": "code",
   "execution_count": null,
   "id": "047a17be",
   "metadata": {},
   "outputs": [],
   "source": []
  }
 ],
 "metadata": {
  "kernelspec": {
   "display_name": "Python 3 (ipykernel)",
   "language": "python",
   "name": "python3"
  },
  "language_info": {
   "codemirror_mode": {
    "name": "ipython",
    "version": 3
   },
   "file_extension": ".py",
   "mimetype": "text/x-python",
   "name": "python",
   "nbconvert_exporter": "python",
   "pygments_lexer": "ipython3",
   "version": "3.11.5"
  }
 },
 "nbformat": 4,
 "nbformat_minor": 5
}
